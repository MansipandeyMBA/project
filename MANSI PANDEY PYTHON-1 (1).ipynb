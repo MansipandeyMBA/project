{
 "cells": [
  {
   "cell_type": "code",
   "execution_count": 5,
   "id": "64412656-af91-4d31-adfc-3c197e232fa1",
   "metadata": {},
   "outputs": [
    {
     "name": "stdin",
     "output_type": "stream",
     "text": [
      "Enter the number of elements in the list:  5\n"
     ]
    },
    {
     "name": "stdout",
     "output_type": "stream",
     "text": [
      "Enter the elements:\n"
     ]
    },
    {
     "name": "stdin",
     "output_type": "stream",
     "text": [
      "Enter element 1:  7\n",
      "Enter element 2:  8\n",
      "Enter element 3:  9\n",
      "Enter element 4:  8\n",
      "Enter element 5:  7\n",
      "Enter the element to search for:  6\n"
     ]
    },
    {
     "name": "stdout",
     "output_type": "stream",
     "text": [
      "Element 6 is not in the list.\n"
     ]
    }
   ],
   "source": [
    "#Write a Python Program to input the length of a series/list and create a list dynamically, Hence search from the list using Linear Search.\n",
    "n = int(input(\"Enter the number of elements in the list: \"))\n",
    "\n",
    "lst = []\n",
    "print(\"Enter the elements:\")\n",
    "for i in range(n):\n",
    "    element = int(input(f\"Enter element {i + 1}: \"))\n",
    "    lst.append(element)\n",
    "\n",
    "search_element = int(input(\"Enter the element to search for: \"))\n",
    "\n",
    "found = False\n",
    "for i in range(len(lst)):\n",
    "    if lst[i] == search_element:\n",
    "        print(f\"Element {search_element} found at position {i + 1}.\")\n",
    "        found = True\n",
    "        break\n",
    "\n",
    "if not found:\n",
    "    print(f\"Element {search_element} is not in the list.\")\n",
    "    "
   ]
  },
  {
   "cell_type": "code",
   "execution_count": null,
   "id": "a02fb7f6-0ebd-4b4d-a508-15ad1c943703",
   "metadata": {},
   "outputs": [
    {
     "name": "stdin",
     "output_type": "stream",
     "text": [
      "Enter the number of students:  30\n"
     ]
    },
    {
     "name": "stdout",
     "output_type": "stream",
     "text": [
      "\n",
      "Enter details for student:\n"
     ]
    },
    {
     "name": "stdin",
     "output_type": "stream",
     "text": [
      "Roll Number:  12\n",
      "Name:  Mansi\n",
      "Course ID:  666\n"
     ]
    },
    {
     "name": "stdout",
     "output_type": "stream",
     "text": [
      "\n",
      "Enter details for student:\n"
     ]
    }
   ],
   "source": [
    "#Write a Python Program to create a Dictionary for every students data which may include the Name, Rollno, and Course ID. Hence create for the rollno and output the course ID\n",
    "students = {}\n",
    "\n",
    "n = int(input(\"Enter the number of students: \"))\n",
    "\n",
    "for _ in range(n):\n",
    "    print(\"\\nEnter details for student:\")\n",
    "    roll_no = input(\"Roll Number: \")\n",
    "    name = input(\"Name: \")\n",
    "    course_id = input(\"Course ID: \")\n",
    "\n",
    "    students[roll_no] = {\"Name\": name, \"Course ID\": course_id}\n",
    "\n",
    "search_roll_no = input(\"\\nEnter the Roll Number to find the Course ID: \")\n",
    "\n",
    "if search_roll_no in students:\n",
    "    print(f\"Course ID for Roll Number {search_roll_no}: {students[search_roll_no]['Course ID']}\")\n",
    "else:\n",
    "    print(f\"Roll Number {search_roll_no} not found.\")"
   ]
  },
  {
   "cell_type": "code",
   "execution_count": 7,
   "id": "114c2de6-89e5-48a6-a4f5-15b5e59364e1",
   "metadata": {},
   "outputs": [
    {
     "name": "stdout",
     "output_type": "stream",
     "text": [
      "menu\n",
      "1 - Pasta:Rs.449\n",
      "2 - Pizza:Rs.349\n",
      "3 - Burger:Rs.199\n",
      "4 - Sandwich:Rs.149\n",
      "5 - Coke:Rs.49\n"
     ]
    },
    {
     "name": "stdin",
     "output_type": "stream",
     "text": [
      "Enter the dish you want to order (or press0 to finish): 5\n"
     ]
    },
    {
     "name": "stdout",
     "output_type": "stream",
     "text": [
      "Coke added to your bill. Current total: Rs.49\n"
     ]
    },
    {
     "name": "stdin",
     "output_type": "stream",
     "text": [
      "Enter the dish you want to order (or press0 to finish): 2\n"
     ]
    },
    {
     "name": "stdout",
     "output_type": "stream",
     "text": [
      "Pizza added to your bill. Current total: Rs.398\n"
     ]
    },
    {
     "name": "stdin",
     "output_type": "stream",
     "text": [
      "Enter the dish you want to order (or press0 to finish): 4\n"
     ]
    },
    {
     "name": "stdout",
     "output_type": "stream",
     "text": [
      "Sandwich added to your bill. Current total: Rs.547\n"
     ]
    },
    {
     "name": "stdin",
     "output_type": "stream",
     "text": [
      "Enter the dish you want to order (or press0 to finish): 5\n"
     ]
    },
    {
     "name": "stdout",
     "output_type": "stream",
     "text": [
      "Coke added to your bill. Current total: Rs.596\n"
     ]
    },
    {
     "name": "stdin",
     "output_type": "stream",
     "text": [
      "Enter the dish you want to order (or press0 to finish): 5\n"
     ]
    },
    {
     "name": "stdout",
     "output_type": "stream",
     "text": [
      "Coke added to your bill. Current total: Rs.645\n"
     ]
    },
    {
     "name": "stdin",
     "output_type": "stream",
     "text": [
      "Enter the dish you want to order (or press0 to finish): 5\n"
     ]
    },
    {
     "name": "stdout",
     "output_type": "stream",
     "text": [
      "Coke added to your bill. Current total: Rs.694\n"
     ]
    },
    {
     "name": "stdin",
     "output_type": "stream",
     "text": [
      "Enter the dish you want to order (or press0 to finish): 0\n"
     ]
    },
    {
     "name": "stdout",
     "output_type": "stream",
     "text": [
      "Your total bill is:Rs.694\n"
     ]
    }
   ],
   "source": [
    "#Write a python program that display a menu with item prices lets the user select item to add to their order and show the total bill when they finish\n",
    "menu=[\n",
    "    {\"Name\":\"Pasta\",\"Price\":449},\n",
    "    {\"Name\":\"Pizza\",\"Price\":349},\n",
    "    {\"Name\":\"Burger\",\"Price\":199},\n",
    "    {\"Name\":\"Sandwich\",\"Price\":149},\n",
    "    {\"Name\":\"Coke\",\"Price\":49}\n",
    "]\n",
    "total_bill=0\n",
    "print('menu')\n",
    "c=1\n",
    "for item in range(len(menu)):\n",
    "    print(f\"{c} - {menu[item]['Name']}:Rs.{menu[item]['Price']}\")\n",
    "    c=c+1\n",
    "while 1==1:\n",
    "    choice=int(input(\"Enter the dish you want to order (or press0 to finish):\"))\n",
    "    if choice==0:\n",
    "        break\n",
    "    elif choice in range(1,len(menu)+1):\n",
    "        total_bill+=menu[choice-1]['Price']\n",
    "        print(f\"{menu[choice - 1]['Name']} added to your bill. Current total: Rs.{total_bill}\")\n",
    "    else:\n",
    "        print(\"Dish not found in the menu. Please try again.\")\n",
    "print(f\"Your total bill is:Rs.{total_bill}\")"
   ]
  }
 ],
 "metadata": {
  "kernelspec": {
   "display_name": "Python 3 (ipykernel)",
   "language": "python",
   "name": "python3"
  },
  "language_info": {
   "codemirror_mode": {
    "name": "ipython",
    "version": 3
   },
   "file_extension": ".py",
   "mimetype": "text/x-python",
   "name": "python",
   "nbconvert_exporter": "python",
   "pygments_lexer": "ipython3",
   "version": "3.12.4"
  }
 },
 "nbformat": 4,
 "nbformat_minor": 5
}
