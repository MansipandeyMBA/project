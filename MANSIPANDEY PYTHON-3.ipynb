{
 "cells": [
  {
   "cell_type": "code",
   "execution_count": 1,
   "id": "1182bc4b-a290-4cc3-bd18-5f343b1c7505",
   "metadata": {},
   "outputs": [
    {
     "name": "stdout",
     "output_type": "stream",
     "text": [
      "hello world\n"
     ]
    }
   ],
   "source": [
    "# write a program to print hello world\n",
    "a=\"hello\"\n",
    "b=\"world\"\n",
    "print(a,b)"
   ]
  },
  {
   "cell_type": "code",
   "execution_count": null,
   "id": "d1734b5a-af7a-4309-99ac-39c0aec7fd00",
   "metadata": {},
   "outputs": [],
   "source": [
    "#Write a Python Program to print Fibonacci Series.\n",
    "def fibo(n):\n",
    "    a=0\n",
    "    b=1\n",
    "    for i in range(n):\n",
    "        print(a,end=\" \")\n",
    "        a,b=b,b+a\n",
    "z=int(input(\"Enter number from user\"))\n",
    "fibo(z)"
   ]
  },
  {
   "cell_type": "code",
   "execution_count": null,
   "id": "b4c18a3f-26ab-4d0e-bfce-d10b1e77b1a6",
   "metadata": {},
   "outputs": [],
   "source": [
    "#To print the table of any number given by the user\n",
    "def tab(a,b):\n",
    "    return a*b\n",
    "num=int(input(\"Enter number\"))\n",
    "for i in range(1,11):\n",
    "    print(f\"{num} X {i} = {tab(num,i)}\")"
   ]
  },
  {
   "cell_type": "code",
   "execution_count": null,
   "id": "2a1705ed-f3e2-4f57-bdba-9ceffc237e5e",
   "metadata": {},
   "outputs": [],
   "source": [
    "#write a python program to create function for every mathematical operations and create calculator using the same \n",
    "def add(a,b):\n",
    "    return a+b\n",
    "def sub(a,b):\n",
    "    return a-b\n",
    "def multiply(a,b):\n",
    "    return a*b\n",
    "def divide(a,b):\n",
    "    return a/b\n",
    "\n",
    "print(\"Select operation.\")\n",
    "print(\"1.Add\")\n",
    "print(\"2.Subtract\")\n",
    "print(\"3.Multiply\")\n",
    "print(\"4.Divide\")\n",
    "print(\"5.Exit\")\n",
    "\n",
    "while 1==1:\n",
    "    \n",
    "    choice = input(\"Enter choice(1/2/3/4/5): \")\n",
    "    \n",
    "    if choice in ('1', '2', '3', '4','5'):\n",
    "        \n",
    "        if choice == '1':\n",
    "            num1=int(input(\"Enter number 1\"))\n",
    "            num2=int(input(\"Enter number 2\"))\n",
    "            print(num1, \"+\", num2, \"=\", add(num1, num2))\n",
    "\n",
    "        elif choice == '2':\n",
    "            num1=int(input(\"Enter number 1\"))\n",
    "            num2=int(input(\"Enter number 2\"))\n",
    "            print(num1, \"-\", num2, \"=\", sub(num1, num2))\n",
    "\n",
    "        elif choice == '3':\n",
    "            num1=int(input(\"Enter number 1\"))\n",
    "            num2=int(input(\"Enter number 2\"))\n",
    "            print(num1, \"*\", num2, \"=\", multiply(num1, num2))\n",
    "\n",
    "        elif choice == '4':\n",
    "            num1=int(input(\"Enter number 1\"))\n",
    "            num2=int(input(\"Enter number 2\"))\n",
    "            print(num1, \"/\", num2, \"=\", divide(num1, num2))\n",
    "            \n",
    "        elif choice == '5':\n",
    "            print(\"Thank you for using\")\n",
    "            break\n",
    "            \n",
    "    else:\n",
    "        print(\"Invalid Input\")"
   ]
  },
  {
   "cell_type": "code",
   "execution_count": null,
   "id": "299ca361-8dea-455a-b358-79e9d0b4c127",
   "metadata": {},
   "outputs": [],
   "source": []
  },
  {
   "cell_type": "code",
   "execution_count": 9,
   "id": "74de2f4c-2c87-49a7-b810-154744f8c403",
   "metadata": {},
   "outputs": [
    {
     "name": "stdin",
     "output_type": "stream",
     "text": [
      "Enter number 1:  4\n",
      "Enter number 2:  5\n"
     ]
    },
    {
     "name": "stdout",
     "output_type": "stream",
     "text": [
      "9\n"
     ]
    },
    {
     "name": "stdin",
     "output_type": "stream",
     "text": [
      "Enter number 1:  6\n",
      "Enter number 2:  7\n"
     ]
    },
    {
     "name": "stdout",
     "output_type": "stream",
     "text": [
      "-1\n"
     ]
    },
    {
     "name": "stdin",
     "output_type": "stream",
     "text": [
      "Enter number 1:  6\n",
      "Enter number 2:  6\n"
     ]
    },
    {
     "name": "stdout",
     "output_type": "stream",
     "text": [
      "36\n"
     ]
    },
    {
     "name": "stdin",
     "output_type": "stream",
     "text": [
      "Enter number 1:  6\n",
      "Enter number 2:  6\n"
     ]
    },
    {
     "name": "stdout",
     "output_type": "stream",
     "text": [
      "1.0\n"
     ]
    }
   ],
   "source": [
    "#2 write a python program to input two numbers and perform all basic operations\n",
    "num1=int(input(\"Enter number 1: \"))\n",
    "num2= int(input(\"Enter number 2: \"))\n",
    "add=num1+num2\n",
    "print(add)\n",
    "num1=int(input(\"Enter number 1: \"))\n",
    "num2= int(input(\"Enter number 2: \"))\n",
    "sub=num1-num2\n",
    "print(sub)\n",
    "num1=int(input(\"Enter number 1: \"))\n",
    "num2= int(input(\"Enter number 2: \"))\n",
    "multi=num1*num2\n",
    "print(multi)\n",
    "num1=int(input(\"Enter number 1: \"))\n",
    "num2= int(input(\"Enter number 2: \"))\n",
    "divide=num1/num2\n",
    "print(divide)"
   ]
  },
  {
   "cell_type": "code",
   "execution_count": 21,
   "id": "912678d0-147a-4204-ad47-bb4dd3559d65",
   "metadata": {},
   "outputs": [
    {
     "name": "stdin",
     "output_type": "stream",
     "text": [
      "enter your number:  7\n"
     ]
    },
    {
     "name": "stdout",
     "output_type": "stream",
     "text": [
      "7 is an odd number\n"
     ]
    }
   ],
   "source": [
    "#3 write a python program to check whether a number is even or odd\n",
    "num=int(input('enter your number: '))\n",
    "if num%2==0:\n",
    "       print(f\"{num} is an even number\")\n",
    "else:   \n",
    "       print(f\"{num} is an odd number\")\n"
   ]
  },
  {
   "cell_type": "code",
   "execution_count": 25,
   "id": "2169f7e7-6f40-4612-9747-e468f0450cf9",
   "metadata": {},
   "outputs": [
    {
     "name": "stdin",
     "output_type": "stream",
     "text": [
      "ENTER YOUR NUMBER:  30\n"
     ]
    },
    {
     "name": "stdout",
     "output_type": "stream",
     "text": [
      "30 is divisible by both 3 and 5.\n"
     ]
    }
   ],
   "source": [
    "#4 write a python program to check whether a number is divisible by 3 or not if the number is divisible by 3 also check if it is divisible by 5.\n",
    "num=int(input('ENTER YOUR NUMBER: '))\n",
    "if num%3==0:\n",
    "    if num%5==0:\n",
    "        print(f\"{num} is divisible by both 3 and 5.\")\n",
    "    else:\n",
    "        print(f\"{num} is divisible by 3 but not 5.\")\n",
    "\n",
    "else:\n",
    "    print(f\"{num} is not divisible by 3\")\n",
    "    "
   ]
  },
  {
   "cell_type": "code",
   "execution_count": 2,
   "id": "1af1f7c8-e44d-460a-b88b-932ec76dddbb",
   "metadata": {},
   "outputs": [],
   "source": [
    "#5 create a basic ATM program that allow users to check their balance, deposit, money and withdraw money ensuring that they dont withdraw more than what they have \n",
    "def total_balance(tb):\n",
    "    print(f\"enter 0 for balance, enter 1 for withdrawal\")\n",
    "    num=int(input('ENTER YOUR NUMBER: '))\n",
    "    if num==0:\n",
    "        print(tb)\n",
    "    elif num==1:\n",
    "        print(f\"enter amount\")\n",
    "        amt=int(input(f\"enter the amt you want to withdraw\"))\n",
    "        if amt>tb:\n",
    "            print(f\"you dont have enough balance\")\n",
    "        else:\n",
    "            print(f\" {amt} here is your money\")\n",
    "            tb= tb-amt\n",
    "            print(\"tb\")\n",
    "    else:\n",
    "        print(\"null\")"
   ]
  },
  {
   "cell_type": "code",
   "execution_count": 29,
   "id": "e0b7b22d-df70-4fbe-b8be-f5d85ebd92e4",
   "metadata": {},
   "outputs": [
    {
     "name": "stdout",
     "output_type": "stream",
     "text": [
      "2 4 6 8 10 12 14 16 18 20 22 24 26 28 30 32 34 36 38 40 42 44 46 48 50 52 54 56 58 60 62 64 66 68 70 72 74 76 78 80 82 84 86 88 90 92 94 96 98 100 "
     ]
    }
   ],
   "source": [
    "#6 write a python program to print all even numbers from 1 to hundred\n",
    "for num in range(1, 101):\n",
    "    if num % 2 == 0:\n",
    "        print(num, end=\" \")\n"
   ]
  },
  {
   "cell_type": "code",
   "execution_count": 34,
   "id": "0c5d3ba8-854a-4829-be68-a9cc3b0d645a",
   "metadata": {},
   "outputs": [
    {
     "name": "stdin",
     "output_type": "stream",
     "text": [
      "Enter a number to display its table:  8\n"
     ]
    },
    {
     "name": "stdout",
     "output_type": "stream",
     "text": [
      "\n",
      "Multiplication Table of 8:\n",
      "8 x 1 = 8\n",
      "8 x 2 = 16\n",
      "8 x 3 = 24\n",
      "8 x 4 = 32\n",
      "8 x 5 = 40\n",
      "8 x 6 = 48\n",
      "8 x 7 = 56\n",
      "8 x 8 = 64\n",
      "8 x 9 = 72\n",
      "8 x 10 = 80\n"
     ]
    }
   ],
   "source": [
    "#7 write a python program to print the table of any number given by the user\n",
    "\n",
    "number = int(input(\"Enter a number to display its table: \"))\n",
    "\n",
    "# Print the multiplication table\n",
    "print(f\"\\nMultiplication Table of {number}:\")\n",
    "for i in range(1, 11):\n",
    "    print(f\"{number} x {i} = {number * i}\")\n"
   ]
  },
  {
   "cell_type": "code",
   "execution_count": 36,
   "id": "20c07b58-39e8-43ef-b84f-0c31a8f995ec",
   "metadata": {},
   "outputs": [
    {
     "name": "stdout",
     "output_type": "stream",
     "text": [
      "0 1 1 2 3 5 8 13 21 34 55 89 "
     ]
    }
   ],
   "source": [
    "#8 wapp to print fibonaki seriesx=0\n",
    "x=0\n",
    "y=1\n",
    "while x<100:\n",
    "  print(x,end=\" \")\n",
    "  x,y=y,x+y\n"
   ]
  },
  {
   "cell_type": "code",
   "execution_count": 38,
   "id": "86694af0-cffc-4f20-9071-7ce63dd08bd5",
   "metadata": {},
   "outputs": [
    {
     "name": "stdin",
     "output_type": "stream",
     "text": [
      "enter your number 190\n"
     ]
    },
    {
     "name": "stdout",
     "output_type": "stream",
     "text": [
      "0\n",
      "1\n",
      "1\n",
      "2\n",
      "3\n",
      "5\n",
      "8\n",
      "13\n",
      "21\n",
      "34\n",
      "55\n",
      "89\n",
      "144\n"
     ]
    }
   ],
   "source": [
    "n=int(input(\"enter your number\"))\n",
    "x=0\n",
    "y=1\n",
    "while x<n:\n",
    "    print(x)\n",
    "    z=x\n",
    "    x=y\n",
    "    y=x+z"
   ]
  },
  {
   "cell_type": "code",
   "execution_count": null,
   "id": "346cafa7-7a52-4a85-94f4-5ae1b0a10d15",
   "metadata": {},
   "outputs": [],
   "source": [
    "#9 wapp to input a number and check whether it is palindrom or not\n",
    "# Input a number from the user\n",
    "num = int(input(\"Enter a number: \"))\n",
    "\n",
    "# Check if the number is a palindrome\n",
    "if str(num) == str(num)[::-1]:\n",
    "    print(f\"{num} is a palindrome.\")\n",
    "else:\n",
    "    print(f\"{num} is not a palindrome.\")\n"
   ]
  },
  {
   "cell_type": "code",
   "execution_count": 1,
   "id": "21210e41-a32b-4256-864a-2c02f58cd66a",
   "metadata": {},
   "outputs": [
    {
     "name": "stdin",
     "output_type": "stream",
     "text": [
      "Enter the length of the list:  7\n",
      "Element 1:  6\n",
      "Element 2:  6\n",
      "Element 3:  7\n",
      "Element 4:  8\n",
      "Element 5:  8\n",
      "Element 6:  77\n",
      "Element 7:  5\n",
      "Enter the element to search for:  6\n"
     ]
    },
    {
     "name": "stdout",
     "output_type": "stream",
     "text": [
      "Element 6 found at position 1.\n"
     ]
    }
   ],
   "source": [
    "#10\n",
    "lst = [int(input(f\"Element {i+1}: \")) for i in range(int(input(\"Enter the length of the list: \")))]\n",
    "search_element = int(input(\"Enter the element to search for: \"))\n",
    "if search_element in lst:\n",
    "    print(f\"Element {search_element} found at position {lst.index(search_element) + 1}.\")\n",
    "else:\n",
    "    print(f\"Element {search_element} not found.\")\n",
    "\n"
   ]
  },
  {
   "cell_type": "code",
   "execution_count": 2,
   "id": "8558161f-2d3f-4ec2-919c-8c683f7061d5",
   "metadata": {},
   "outputs": [
    {
     "name": "stdin",
     "output_type": "stream",
     "text": [
      "Enter the number of students:  7\n",
      "Roll Number:  7\n",
      "Course ID:  9\n",
      "Roll Number:  9\n",
      "Course ID:  8\n",
      "Roll Number:  9\n",
      "Course ID:  7\n",
      "Roll Number:  66\n"
     ]
    },
    {
     "name": "stderr",
     "output_type": "stream",
     "text": [
      "\n",
      "KeyboardInterrupt\n",
      "\n"
     ]
    }
   ],
   "source": [
    "#11 wapp to create a dictionary for every students data(name,roll number,course id), hence create an input for the roll number and output the course id\n",
    "# Input number of students and create the dictionary\n",
    "students = {input(\"Roll Number: \"): input(\"Course ID: \") for _ in range(int(input(\"Enter the number of students: \")))}\n",
    "\n",
    "# Input roll number to search and output the course ID\n",
    "roll_number = input(\"Enter the roll number to search for: \")\n",
    "print(f\"Course ID: {students.get(roll_number, 'Roll number not found')}\")\n"
   ]
  },
  {
   "cell_type": "code",
   "execution_count": 3,
   "id": "d38e79f6-9abd-47cd-a81d-eabfd7ca1628",
   "metadata": {},
   "outputs": [
    {
     "name": "stdout",
     "output_type": "stream",
     "text": [
      "Menu:\n",
      "Pizza: $10\n",
      "Burger: $5\n",
      "Pasta: $7\n",
      "Salad: $4\n"
     ]
    },
    {
     "ename": "KeyboardInterrupt",
     "evalue": "Interrupted by user",
     "output_type": "error",
     "traceback": [
      "\u001b[1;31m---------------------------------------------------------------------------\u001b[0m",
      "\u001b[1;31mKeyboardInterrupt\u001b[0m                         Traceback (most recent call last)",
      "Cell \u001b[1;32mIn[3], line 12\u001b[0m\n\u001b[0;32m     10\u001b[0m total \u001b[38;5;241m=\u001b[39m \u001b[38;5;241m0\u001b[39m\n\u001b[0;32m     11\u001b[0m \u001b[38;5;28;01mwhile\u001b[39;00m \u001b[38;5;28;01mTrue\u001b[39;00m:\n\u001b[1;32m---> 12\u001b[0m     choice \u001b[38;5;241m=\u001b[39m \u001b[38;5;28minput\u001b[39m(\u001b[38;5;124m\"\u001b[39m\u001b[38;5;130;01m\\n\u001b[39;00m\u001b[38;5;124mEnter item to add to order (or \u001b[39m\u001b[38;5;124m'\u001b[39m\u001b[38;5;124mdone\u001b[39m\u001b[38;5;124m'\u001b[39m\u001b[38;5;124m to finish): \u001b[39m\u001b[38;5;124m\"\u001b[39m)\u001b[38;5;241m.\u001b[39mcapitalize()\n\u001b[0;32m     13\u001b[0m     \u001b[38;5;28;01mif\u001b[39;00m choice \u001b[38;5;241m==\u001b[39m \u001b[38;5;124m'\u001b[39m\u001b[38;5;124mDone\u001b[39m\u001b[38;5;124m'\u001b[39m:\n\u001b[0;32m     14\u001b[0m         \u001b[38;5;28;01mbreak\u001b[39;00m\n",
      "File \u001b[1;32mC:\\anaconda\\Lib\\site-packages\\ipykernel\\kernelbase.py:1262\u001b[0m, in \u001b[0;36mKernel.raw_input\u001b[1;34m(self, prompt)\u001b[0m\n\u001b[0;32m   1260\u001b[0m     msg \u001b[38;5;241m=\u001b[39m \u001b[38;5;124m\"\u001b[39m\u001b[38;5;124mraw_input was called, but this frontend does not support input requests.\u001b[39m\u001b[38;5;124m\"\u001b[39m\n\u001b[0;32m   1261\u001b[0m     \u001b[38;5;28;01mraise\u001b[39;00m StdinNotImplementedError(msg)\n\u001b[1;32m-> 1262\u001b[0m \u001b[38;5;28;01mreturn\u001b[39;00m \u001b[38;5;28mself\u001b[39m\u001b[38;5;241m.\u001b[39m_input_request(\n\u001b[0;32m   1263\u001b[0m     \u001b[38;5;28mstr\u001b[39m(prompt),\n\u001b[0;32m   1264\u001b[0m     \u001b[38;5;28mself\u001b[39m\u001b[38;5;241m.\u001b[39m_parent_ident[\u001b[38;5;124m\"\u001b[39m\u001b[38;5;124mshell\u001b[39m\u001b[38;5;124m\"\u001b[39m],\n\u001b[0;32m   1265\u001b[0m     \u001b[38;5;28mself\u001b[39m\u001b[38;5;241m.\u001b[39mget_parent(\u001b[38;5;124m\"\u001b[39m\u001b[38;5;124mshell\u001b[39m\u001b[38;5;124m\"\u001b[39m),\n\u001b[0;32m   1266\u001b[0m     password\u001b[38;5;241m=\u001b[39m\u001b[38;5;28;01mFalse\u001b[39;00m,\n\u001b[0;32m   1267\u001b[0m )\n",
      "File \u001b[1;32mC:\\anaconda\\Lib\\site-packages\\ipykernel\\kernelbase.py:1305\u001b[0m, in \u001b[0;36mKernel._input_request\u001b[1;34m(self, prompt, ident, parent, password)\u001b[0m\n\u001b[0;32m   1302\u001b[0m \u001b[38;5;28;01mexcept\u001b[39;00m \u001b[38;5;167;01mKeyboardInterrupt\u001b[39;00m:\n\u001b[0;32m   1303\u001b[0m     \u001b[38;5;66;03m# re-raise KeyboardInterrupt, to truncate traceback\u001b[39;00m\n\u001b[0;32m   1304\u001b[0m     msg \u001b[38;5;241m=\u001b[39m \u001b[38;5;124m\"\u001b[39m\u001b[38;5;124mInterrupted by user\u001b[39m\u001b[38;5;124m\"\u001b[39m\n\u001b[1;32m-> 1305\u001b[0m     \u001b[38;5;28;01mraise\u001b[39;00m \u001b[38;5;167;01mKeyboardInterrupt\u001b[39;00m(msg) \u001b[38;5;28;01mfrom\u001b[39;00m \u001b[38;5;28;01mNone\u001b[39;00m\n\u001b[0;32m   1306\u001b[0m \u001b[38;5;28;01mexcept\u001b[39;00m \u001b[38;5;167;01mException\u001b[39;00m:\n\u001b[0;32m   1307\u001b[0m     \u001b[38;5;28mself\u001b[39m\u001b[38;5;241m.\u001b[39mlog\u001b[38;5;241m.\u001b[39mwarning(\u001b[38;5;124m\"\u001b[39m\u001b[38;5;124mInvalid Message:\u001b[39m\u001b[38;5;124m\"\u001b[39m, exc_info\u001b[38;5;241m=\u001b[39m\u001b[38;5;28;01mTrue\u001b[39;00m)\n",
      "\u001b[1;31mKeyboardInterrupt\u001b[0m: Interrupted by user"
     ]
    }
   ],
   "source": [
    "# 12 wapp to display a menu with item prices, let the user select item to their order and show the total bill when they finish\n",
    "#Menu with item prices\n",
    "# Menu with item prices\n",
    "menu = {\"Pizza\": 10, \"Burger\": 5, \"Pasta\": 7, \"Salad\": 4}\n",
    "print(\"Menu:\")\n",
    "for item, price in menu.items():\n",
    "    print(f\"{item}: ${price}\")\n",
    "\n",
    "# Order processing\n",
    "total = 0\n",
    "while True:\n",
    "    choice = input(\"\\nEnter item to add to order (or 'done' to finish): \").capitalize()\n",
    "    if choice == 'Done':\n",
    "        break\n",
    "    elif choice in menu:\n",
    "        total += menu[choice]\n",
    "        print(f\"{choice} added. Current total: ${total}\")\n",
    "    else:\n",
    "        print(\"Item not on menu.\")\n",
    "\n",
    "# Display total bill\n",
    "print(f\"\\nTotal bill: ${total}\")\n"
   ]
  },
  {
   "cell_type": "code",
   "execution_count": null,
   "id": "ba3be4cd-a758-4737-8ef9-48715cdf379d",
   "metadata": {},
   "outputs": [],
   "source": []
  },
  {
   "cell_type": "code",
   "execution_count": null,
   "id": "b3cb4039-1202-4572-9842-71c07d8aac43",
   "metadata": {},
   "outputs": [],
   "source": []
  },
  {
   "cell_type": "code",
   "execution_count": null,
   "id": "8b5f3109-9f3c-471a-a2f5-df50a647c010",
   "metadata": {},
   "outputs": [],
   "source": []
  },
  {
   "cell_type": "code",
   "execution_count": null,
   "id": "baf5388f-99fb-4709-af5a-6ae591db9726",
   "metadata": {},
   "outputs": [],
   "source": []
  }
 ],
 "metadata": {
  "kernelspec": {
   "display_name": "Python 3 (ipykernel)",
   "language": "python",
   "name": "python3"
  },
  "language_info": {
   "codemirror_mode": {
    "name": "ipython",
    "version": 3
   },
   "file_extension": ".py",
   "mimetype": "text/x-python",
   "name": "python",
   "nbconvert_exporter": "python",
   "pygments_lexer": "ipython3",
   "version": "3.12.4"
  }
 },
 "nbformat": 4,
 "nbformat_minor": 5
}
